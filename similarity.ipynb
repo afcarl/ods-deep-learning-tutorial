{
 "cells": [
  {
   "cell_type": "markdown",
   "metadata": {},
   "source": [
    "# Image similarity\n",
    "\n",
    "In order to calculate e.g. image similarity for image search, we can extract features from a convolutional network. It's common to use features from the layer before the final classifier, e.g. the features circled in the diagram below.\n",
    "\n",
    "![img](./images/googlenet_diagram_features2.png)\n",
    "\n",
    "Extracting these features is very simple using Caffe, as we show below."
   ]
  },
  {
   "cell_type": "code",
   "execution_count": 1,
   "metadata": {
    "collapsed": false
   },
   "outputs": [
    {
     "name": "stderr",
     "output_type": "stream",
     "text": [
      "/usr/lib/python2.7/dist-packages/pkg_resources.py:1031: UserWarning: /home/ubuntu/.python-eggs is writable by group/others and vulnerable to attack when used with get_resource_filename. Consider a more secure location (set with .set_extraction_path or the PYTHON_EGG_CACHE environment variable).\n",
      "  warnings.warn(msg, UserWarning)\n"
     ]
    }
   ],
   "source": [
    "import numpy as np\n",
    "\n",
    "# Make sure that caffe is on the python path:\n",
    "caffe_root = '/home/ubuntu/caffe/' # this file is expected to be in {caffe_root}/examples\n",
    "model_root = '/home/ubuntu/caffe/models/bvlc_googlenet/'\n",
    "import sys\n",
    "sys.path.insert(0, caffe_root + 'python')\n",
    "import caffe"
   ]
  },
  {
   "cell_type": "code",
   "execution_count": 2,
   "metadata": {
    "collapsed": false
   },
   "outputs": [],
   "source": [
    "caffe.set_mode_gpu()\n",
    "net = caffe.Net(model_root + 'deploy.prototxt', \n",
    "                model_root + 'bvlc_googlenet.caffemodel',\n",
    "                caffe.TEST)\n",
    "\n",
    "# input preprocessing: 'data' is the name of the input blob == net.inputs[0]\n",
    "transformer = caffe.io.Transformer({'data': net.blobs['data'].data.shape})\n",
    "transformer.set_transpose('data', (2,0,1))\n",
    "transformer.set_mean('data', np.load(caffe_root + 'python/caffe/imagenet/ilsvrc_2012_mean.npy').mean(1).mean(1)) # mean pixel\n",
    "transformer.set_raw_scale('data', 255)  # the reference model operates on images in [0,255] range instead of [0,1]\n",
    "transformer.set_channel_swap('data', (2,1,0))  # the reference model has channels in BGR order instead of RGB (opencv)"
   ]
  },
  {
   "cell_type": "code",
   "execution_count": 19,
   "metadata": {
    "collapsed": false
   },
   "outputs": [
    {
     "data": {
      "text/plain": [
       "array([ 0.00657718,  4.47157335,  0.        , ...,  2.10681844,\n",
       "        0.        ,  0.26480123], dtype=float32)"
      ]
     },
     "execution_count": 19,
     "metadata": {},
     "output_type": "execute_result"
    }
   ],
   "source": [
    "# insert an image\n",
    "im = caffe.io.load_image('./images/ant_small.jpg')\n",
    "im = transformer.preprocess('data', im)\n",
    "net.blobs['data'].data[...] = im\n",
    "# do forward pass\n",
    "net.forward()\n",
    "# extract features from layers\n",
    "features = net.blobs['pool5/7x7_s1'].data[0,:,0,0]\n",
    "features\n",
    "# can use with e.g. cosine distance or euclidean distance for information retrieval"
   ]
  }
 ],
 "metadata": {
  "description": "Instant recognition with a pre-trained model and a tour of the net interface for visualizing features and parameters layer-by-layer.",
  "example_name": "Image Classification and Filter Visualization",
  "include_in_docs": true,
  "kernelspec": {
   "display_name": "Python 2",
   "language": "python",
   "name": "python2"
  },
  "language_info": {
   "codemirror_mode": {
    "name": "ipython",
    "version": 2
   },
   "file_extension": ".py",
   "mimetype": "text/x-python",
   "name": "python",
   "nbconvert_exporter": "python",
   "pygments_lexer": "ipython2",
   "version": "2.7.6"
  },
  "priority": 1
 },
 "nbformat": 4,
 "nbformat_minor": 0
}
